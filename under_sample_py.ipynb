{
  "nbformat": 4,
  "nbformat_minor": 0,
  "metadata": {
    "colab": {
      "provenance": []
    },
    "kernelspec": {
      "name": "python3",
      "display_name": "Python 3"
    },
    "language_info": {
      "name": "python"
    }
  },
  "cells": [
    {
      "cell_type": "code",
      "execution_count": null,
      "metadata": {
        "id": "exqSjeWzJsgx"
      },
      "outputs": [],
      "source": [
        "# As we have far less anomaly images than normal images, first copy all the anomaly images to test folder,\n",
        "# then copy randomely selected same number of normal image to the test folder\n",
        "\n",
        "import os\n",
        "import shutil\n",
        "import random\n",
        "from google.colab import drive\n",
        "\n",
        "# drive.mount('/content/drive')\n",
        "source_anomaly_folder = '/content/drive/MyDrive/Colab Notebooks/faulty-product-detection/Data/Unprocessed/Anomaly'\n",
        "dest_anomaly_folder = '/content/drive/MyDrive/Colab Notebooks/faulty-product-detection/Data/Anomaly'\n",
        "source_normal_folder = '/content/drive/MyDrive/Colab Notebooks/faulty-product-detection/Data/Unprocessed/Normal'\n",
        "dest_normal_folder = '/content/drive/MyDrive/Colab Notebooks/faulty-product-detection/Data/Normal'\n",
        "\n",
        "\n",
        "# if not os.path.exists(dest_anomaly_folder):\n",
        "#     os.makedirs(dest_anomaly_folder)\n",
        "\n",
        "if not os.path.exists(dest_anomaly_folder):\n",
        "    os.makedirs(dest_normal_folder)\n",
        "\n",
        "shutil.copytree(source_anomaly_folder, dest_anomaly_folder)\n",
        "print(\"Anomaly folder copied successfully!\")\n",
        "\n",
        "\n",
        "\n",
        "number_of_anomaly_images = len(os.listdir(dest_anomaly_folder))\n",
        "\n",
        "normal_images = os.listdir(source_normal_folder)\n",
        "random.shuffle(normal_images)\n",
        "selected_normal_images = normal_images[:number_of_anomaly_images]\n",
        "\n",
        "for image_name in selected_normal_images:\n",
        "    src = os.path.join(source_normal_folder, image_name)\n",
        "    dst = os.path.join(dest_normal_folder, image_name)\n",
        "    shutil.copy(src, dst)\n",
        "\n",
        "print(\"Undersampled normal folder copied successfully!\")\n",
        "\n"
      ]
    }
  ]
}