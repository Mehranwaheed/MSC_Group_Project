{
  "nbformat": 4,
  "nbformat_minor": 0,
  "metadata": {
    "colab": {
      "provenance": [],
      "mount_file_id": "1UwXrLpcyy5GtmYchBhNPu2GkYfTlLkgH",
      "authorship_tag": "ABX9TyNo42nQVwLtXEy2y+5Z3Qjg",
      "include_colab_link": true
    },
    "kernelspec": {
      "name": "python3",
      "display_name": "Python 3"
    },
    "language_info": {
      "name": "python"
    }
  },
  "cells": [
    {
      "cell_type": "markdown",
      "metadata": {
        "id": "view-in-github",
        "colab_type": "text"
      },
      "source": [
        "<a href=\"https://colab.research.google.com/github/Mehranwaheed/MSC_Group_Project/blob/main/new_feature_extraction.ipynb\" target=\"_parent\"><img src=\"https://colab.research.google.com/assets/colab-badge.svg\" alt=\"Open In Colab\"/></a>"
      ]
    },
    {
      "cell_type": "code",
      "source": [
        "import os\n",
        "import numpy as np\n",
        "from PIL import Image\n",
        "import joblib\n",
        "\n",
        "def read_images(folder_path, label):\n",
        "    images = []\n",
        "    labels = []\n",
        "    for filename in os.listdir(folder_path):\n",
        "        image_path = os.path.join(folder_path, filename)\n",
        "        with Image.open(image_path) as img:\n",
        "            # Convert image to grayscale and resize\n",
        "            img = img.convert('L').resize((224, 224))\n",
        "            # Convert image to NumPy array\n",
        "            img_array = np.array(img)\n",
        "            # Normalize pixel values to range [0, 1]\n",
        "            img_array = img_array / 255.0\n",
        "            images.append(img_array)\n",
        "            labels.append(label)\n",
        "    return images, labels\n",
        "\n",
        "# Path to the folders containing anomaly and normal images\n",
        "train_anomaly_folder = \"/content/drive/MyDrive/MSC_Group_Project/training_anomaly\"\n",
        "train_normal_folder = \"/content/drive/MyDrive/MSC_Group_Project/training_normal\"\n",
        "\n",
        "# Read anomaly images\n",
        "X_train_anomaly_images, y_train_anomaly_labels = read_images(train_anomaly_folder, label=1)\n",
        "print(\"Anomaly images read successfully.\")\n",
        "\n",
        "# Read normal images\n",
        "X_train_normal_images, y_train_normal_labels = read_images(train_normal_folder, label=0)\n",
        "print(\"Normal images read successfully.\")\n",
        "\n",
        "# Concatenate anomaly and normal images and labels\n",
        "#X = np.concatenate([anomaly_features, normal_features], axis=0)\n",
        "X_train = X_train_normal_images + X_train_anomaly_images\n",
        "y_train = y_train_anomaly_labels + y_train_normal_labels\n",
        "\n",
        "\n",
        "#X = np.concatenate([anomaly_images, normal_images], axis=0)\n",
        "#y = np.concatenate([anomaly_labels, normal_labels])\n",
        "\n",
        "#print(\"X shape:\", X.shape)\n",
        "#print(\"y shape:\", y.shape)\n"
      ],
      "metadata": {
        "colab": {
          "base_uri": "https://localhost:8080/"
        },
        "id": "vJa0mEioVeAy",
        "outputId": "15716198-8464-4e15-b1eb-98e2fda86547"
      },
      "execution_count": null,
      "outputs": [
        {
          "output_type": "stream",
          "name": "stdout",
          "text": [
            "Anomaly images read successfully.\n",
            "Normal images read successfully.\n"
          ]
        }
      ]
    },
    {
      "cell_type": "code",
      "source": [
        "import os\n",
        "import numpy as np\n",
        "from PIL import Image\n",
        "import joblib\n",
        "\n",
        "def read_images(folder_path, label):\n",
        "    images = []\n",
        "    labels = []\n",
        "    for filename in os.listdir(folder_path):\n",
        "        image_path = os.path.join(folder_path, filename)\n",
        "        with Image.open(image_path) as img:\n",
        "            # Convert image to grayscale and resize\n",
        "            img = img.convert('L').resize((224, 224))\n",
        "            # Convert image to NumPy array\n",
        "            img_array = np.array(img)\n",
        "            # Normalize pixel values to range [0, 1]\n",
        "            img_array = img_array / 255.0\n",
        "            images.append(img_array)\n",
        "            labels.append(label)\n",
        "    return images, labels\n",
        "\n",
        "# Path to the folders containing anomaly and normal images\n",
        "test_anomaly_folder = \"/content/drive/MyDrive/MSC_Group_Project/test_anomaly\"\n",
        "test_normal_folder = \"/content/drive/MyDrive/MSC_Group_Project/test_normal\"\n",
        "\n",
        "# Read anomaly images\n",
        "X_test_anomaly_images, y_test_anomaly_labels = read_images(train_anomaly_folder, label=1)\n",
        "print(\"Anomaly images read successfully.\")\n",
        "\n",
        "# Read normal images\n",
        "X_test_normal_images, y_test_normal_labels = read_images(train_normal_folder, label=0)\n",
        "print(\"Normal images read successfully.\")\n",
        "\n",
        "# Concatenate anomaly and normal images and labels\n",
        "#X = np.concatenate([anomaly_features, normal_features], axis=0)\n",
        "X_test = X_test_anomaly_images + X_test_normal_images\n",
        "y_test = y_test_anomaly_labels + y_test_normal_labels\n",
        "\n",
        "\n",
        "#X = np.concatenate([anomaly_images, normal_images], axis=0)\n",
        "#y = np.concatenate([anomaly_labels, normal_labels])\n",
        "\n",
        "#print(\"X shape:\", X.shape)\n",
        "#print(\"y shape:\", y.shape)\n"
      ],
      "metadata": {
        "colab": {
          "base_uri": "https://localhost:8080/"
        },
        "id": "9EgVkhkrW6cv",
        "outputId": "8d0bb836-32b3-4257-bca8-a9072ca2adb8"
      },
      "execution_count": null,
      "outputs": [
        {
          "output_type": "stream",
          "name": "stdout",
          "text": [
            "Anomaly images read successfully.\n",
            "Normal images read successfully.\n"
          ]
        }
      ]
    },
    {
      "cell_type": "markdown",
      "source": [
        "# PCA"
      ],
      "metadata": {
        "id": "ZyWpaHGzaJDI"
      }
    },
    {
      "cell_type": "code",
      "source": [
        "import numpy as np\n",
        "from sklearn.decomposition import PCA\n",
        "X_train=np.array(X_train)\n",
        "X_test=np.array(X_test)\n",
        "X_train_re = X_train.reshape(X_train.shape[0], -1)\n",
        "X_test_re = X_test.reshape(X_test.shape[0], -1)\n",
        "\n",
        "n_components = 100\n",
        "pca = PCA(n_components=n_components, whiten=True, random_state=42)\n",
        "X_train_pca = pca.fit_transform(X_train_re)\n",
        "X_test_pca = pca.transform(X_test_re)"
      ],
      "metadata": {
        "id": "IvwMQj4WY8lU"
      },
      "execution_count": null,
      "outputs": []
    },
    {
      "cell_type": "code",
      "source": [
        "from sklearn.svm import SVC\n",
        "from sklearn.metrics import accuracy_score\n",
        "import joblib\n",
        "\n",
        "# Train a Support Vector Machine (SVM) classifier\n",
        "svm_classifier = SVC(probability=True)\n",
        "svm_classifier.fit(X_train_pca, y_train)\n",
        "\n",
        "# Make predictions on the test set\n",
        "y_pred = svm_classifier.predict(X_test_pca)\n",
        "\n",
        "# Evaluate the model's accuracy\n",
        "accuracy = accuracy_score(y_test, y_pred)\n",
        "print(f\"Accuracy: {accuracy * 100:.2f}%\")"
      ],
      "metadata": {
        "colab": {
          "base_uri": "https://localhost:8080/"
        },
        "id": "_AO6aewtcUaT",
        "outputId": "554036d7-1959-4038-8c86-65f287b66dd6"
      },
      "execution_count": null,
      "outputs": [
        {
          "output_type": "stream",
          "name": "stdout",
          "text": [
            "Accuracy: 0.62%\n"
          ]
        }
      ]
    },
    {
      "cell_type": "code",
      "source": [
        "from sklearn.metrics import accuracy_score,confusion_matrix,classification_report\n",
        "print(classification_report(y_test,y_pred))"
      ],
      "metadata": {
        "colab": {
          "base_uri": "https://localhost:8080/"
        },
        "id": "ZvmD8mwZSQ2m",
        "outputId": "ef70168c-c812-4c4e-bc0b-25496d21bd59"
      },
      "execution_count": null,
      "outputs": [
        {
          "output_type": "stream",
          "name": "stdout",
          "text": [
            "              precision    recall  f1-score   support\n",
            "\n",
            "           0       0.00      0.00      0.00        80\n",
            "           1       0.01      0.01      0.01        80\n",
            "\n",
            "    accuracy                           0.01       160\n",
            "   macro avg       0.01      0.01      0.01       160\n",
            "weighted avg       0.01      0.01      0.01       160\n",
            "\n"
          ]
        }
      ]
    },
    {
      "cell_type": "code",
      "source": [
        "from sklearn.metrics import confusion_matrix\n",
        "import matplotlib.pyplot as plt\n",
        "import seaborn as sns\n",
        "\n",
        "\n",
        "\n",
        "# Compute confusion matrix\n",
        "cm = confusion_matrix(y_test, y_pred)\n",
        "\n",
        "class_labels = ['Normal', 'Anomaly']\n",
        "\n",
        "# Plot confusion matrix\n",
        "plt.figure(figsize=(8, 6))\n",
        "sns.heatmap(cm, annot=True, cmap='Blues', fmt='g', xticklabels=class_labels, yticklabels=class_labels, cbar=False)\n",
        "\n",
        "#sns.heatmap(cm, annot=True, cmap='Blues', fmt='d', cbar=False)\n",
        "plt.xlabel('Predicted')\n",
        "plt.ylabel('True')\n",
        "plt.title('Confusion Matrix')\n",
        "plt.show()"
      ],
      "metadata": {
        "id": "n9Kq27peShoc",
        "outputId": "13ab0eed-4232-48dc-d3ab-2cfb62ec1062",
        "colab": {
          "base_uri": "https://localhost:8080/",
          "height": 564
        }
      },
      "execution_count": null,
      "outputs": [
        {
          "output_type": "display_data",
          "data": {
            "text/plain": [
              "<Figure size 800x600 with 1 Axes>"
            ],
            "image/png": "[encoded data removed]"
          },
          "metadata": {}
        }
      ]
    },
    {
      "cell_type": "markdown",
      "source": [
        "# Resnet50"
      ],
      "metadata": {
        "id": "CwN6hqmDc5nD"
      }
    },
    {
      "cell_type": "code",
      "execution_count": null,
      "metadata": {
        "colab": {
          "base_uri": "https://localhost:8080/"
        },
        "id": "XceyI-0yejD1",
        "outputId": "1c94ca06-3cf5-443f-9b80-a6beb596cda5"
      },
      "outputs": [
        {
          "output_type": "stream",
          "name": "stderr",
          "text": [
            "/usr/local/lib/python3.10/dist-packages/torchvision/models/_utils.py:208: UserWarning: The parameter 'pretrained' is deprecated since 0.13 and may be removed in the future, please use 'weights' instead.\n",
            "  warnings.warn(\n",
            "/usr/local/lib/python3.10/dist-packages/torchvision/models/_utils.py:223: UserWarning: Arguments other than a weight enum or `None` for 'weights' are deprecated since 0.13 and may be removed in the future. The current behavior is equivalent to passing `weights=ResNet50_Weights.IMAGENET1K_V1`. You can also use `weights=ResNet50_Weights.DEFAULT` to get the most up-to-date weights.\n",
            "  warnings.warn(msg)\n"
          ]
        }
      ],
      "source": [
        "import os\n",
        "import shutil\n",
        "import random\n",
        "import torch\n",
        "import torchvision.transforms as transforms\n",
        "import torchvision.models as models\n",
        "from PIL import Image\n",
        "\n",
        "\n",
        "# Load pre-trained ResNet-50 model\n",
        "model = models.resnet50(pretrained=True)\n",
        "model.eval()\n",
        "\n",
        "# Preprocess input image\n",
        "transform = transforms.Compose([\n",
        "    transforms.Resize((224, 224)),  # Resize the image to fit ResNet input size\n",
        "    transforms.ToTensor(),           # Convert image to tensor\n",
        "    transforms.Normalize(mean=[0.485, 0.456, 0.406], std=[0.229, 0.224, 0.225])  # Normalize image\n",
        "])\n",
        "\n",
        "# Function to extract features and labels\n",
        "def extract_features_and_labels(folder_path, label):\n",
        "    images = os.listdir(folder_path)\n",
        "    features = []\n",
        "    labels = []\n",
        "\n",
        "    for image_name in images:\n",
        "        input_image_path = os.path.join(folder_path, image_name)\n",
        "\n",
        "        input_image = Image.open(input_image_path)\n",
        "        input_tensor = transform(input_image)\n",
        "        input_batch = input_tensor.unsqueeze(0)  # Add batch dimension\n",
        "        with torch.no_grad():\n",
        "            features_tensor = model(input_batch)\n",
        "        feature_vector = features_tensor.squeeze().numpy()\n",
        "        features.append(feature_vector)\n",
        "        labels.append(label)\n",
        "    return features, labels\n",
        "\n",
        "# Path to training folders\n",
        "train_normal_folder = \"/content/drive/MyDrive/MSC_Group_Project/training_normal\"\n",
        "train_anomaly_folder = \"/content/drive/MyDrive/MSC_Group_Project/training_anomaly\"\n",
        "\n",
        "# Extract features and labels for normal images\n",
        "X_train_normal, y_train_normal = extract_features_and_labels(train_normal_folder, label=0)\n",
        "\n",
        "# Extract features and labels for anomaly images\n",
        "X_train_anomaly, y_train_anomaly = extract_features_and_labels(train_anomaly_folder, label=1)\n",
        "\n",
        "# Combine normal and anomaly features and labels\n",
        "X_train = X_train_normal + X_train_anomaly\n",
        "y_train = y_train_normal + y_train_anomaly\n"
      ]
    },
    {
      "cell_type": "code",
      "source": [
        "import os\n",
        "import shutil\n",
        "import random\n",
        "import torch\n",
        "import torchvision.transforms as transforms\n",
        "import torchvision.models as models\n",
        "from PIL import Image\n",
        "\n",
        "\n",
        "# Load pre-trained ResNet-50 model\n",
        "model = models.resnet50(pretrained=True)\n",
        "model.eval()\n",
        "\n",
        "# Preprocess input image\n",
        "transform = transforms.Compose([\n",
        "    transforms.Resize((224, 224)),  # Resize the image to fit ResNet input size\n",
        "    transforms.ToTensor(),           # Convert image to tensor\n",
        "    transforms.Normalize(mean=[0.485, 0.456, 0.406], std=[0.229, 0.224, 0.225])  # Normalize image\n",
        "])\n",
        "\n",
        "# Function to extract features and labels\n",
        "def extract_features_and_labels(folder_path, label):\n",
        "    images = os.listdir(folder_path)\n",
        "    features = []\n",
        "    labels = []\n",
        "\n",
        "    for image_name in images:\n",
        "        input_image_path = os.path.join(folder_path, image_name)\n",
        "\n",
        "        input_image = Image.open(input_image_path)\n",
        "        input_tensor = transform(input_image)\n",
        "        input_batch = input_tensor.unsqueeze(0)  # Add batch dimension\n",
        "        with torch.no_grad():\n",
        "            features_tensor = model(input_batch)\n",
        "        feature_vector = features_tensor.squeeze().numpy()\n",
        "        features.append(feature_vector)\n",
        "        labels.append(label)\n",
        "    return features, labels\n",
        "\n",
        "# Path to training folders\n",
        "test_normal_folder = \"/content/drive/MyDrive/MSC_Group_Project/test_normal\"\n",
        "test_anomaly_folder = \"/content/drive/MyDrive/MSC_Group_Project/test_anomaly\"\n",
        "\n",
        "# Extract features and labels for normal images\n",
        "X_test_normal, y_test_normal = extract_features_and_labels(test_normal_folder, label=0)\n",
        "\n",
        "# Extract features and labels for anomaly images\n",
        "X_test_anomaly, y_test_anomaly = extract_features_and_labels(test_anomaly_folder, label=1)\n",
        "\n",
        "# Combine normal and anomaly features and labels\n",
        "X_test = X_test_normal + X_test_anomaly\n",
        "y_test = y_test_normal + y_test_anomaly\n"
      ],
      "metadata": {
        "id": "G9y7dNjNjVpc"
      },
      "execution_count": null,
      "outputs": []
    },
    {
      "cell_type": "code",
      "source": [
        "from sklearn.svm import SVC\n",
        "from sklearn.metrics import accuracy_score\n",
        "import joblib\n",
        "\n",
        "# Train a Support Vector Machine (SVM) classifier\n",
        "svm_classifier = SVC(probability=True)\n",
        "svm_classifier.fit(X_train, y_train)\n",
        "\n",
        "# Make predictions on the test set\n",
        "y_pred = svm_classifier.predict(X_test)\n",
        "\n",
        "# Evaluate the model's accuracy\n",
        "accuracy = accuracy_score(y_test, y_pred)\n",
        "print(f\"Accuracy: {accuracy * 100:.2f}%\")\n",
        "#joblib.dump(svm_classifier,\"/content/drive/MyDrive/MSC_Group_Project/model/svm_model1.pkl\")"
      ],
      "metadata": {
        "colab": {
          "base_uri": "https://localhost:8080/"
        },
        "id": "4gly6kyHjQ7k",
        "outputId": "bff45dbf-16f3-4738-9689-5ecdc766654d"
      },
      "execution_count": null,
      "outputs": [
        {
          "output_type": "stream",
          "name": "stdout",
          "text": [
            "Accuracy: 77.50%\n"
          ]
        }
      ]
    },
    {
      "cell_type": "code",
      "source": [
        "from sklearn.metrics import accuracy_score,confusion_matrix,classification_report\n",
        "print(classification_report(y_test,y_pred))"
      ],
      "metadata": {
        "colab": {
          "base_uri": "https://localhost:8080/"
        },
        "id": "NLpDLgr3RDGp",
        "outputId": "6d9d24e4-bd45-4f28-fcff-65ea6757483a"
      },
      "execution_count": null,
      "outputs": [
        {
          "output_type": "stream",
          "name": "stdout",
          "text": [
            "              precision    recall  f1-score   support\n",
            "\n",
            "           0       0.72      0.90      0.80        20\n",
            "           1       0.87      0.65      0.74        20\n",
            "\n",
            "    accuracy                           0.78        40\n",
            "   macro avg       0.79      0.78      0.77        40\n",
            "weighted avg       0.79      0.78      0.77        40\n",
            "\n"
          ]
        }
      ]
    },
    {
      "cell_type": "code",
      "source": [
        "from sklearn.metrics import confusion_matrix\n",
        "import matplotlib.pyplot as plt\n",
        "import seaborn as sns\n",
        "\n",
        "\n",
        "\n",
        "# Compute confusion matrix\n",
        "cm = confusion_matrix(y_test, y_pred)\n",
        "\n",
        "class_labels = ['Normal', 'Anomaly']\n",
        "\n",
        "# Plot confusion matrix\n",
        "plt.figure(figsize=(8, 6))\n",
        "sns.heatmap(cm, annot=True, cmap='Blues', fmt='g', xticklabels=class_labels, yticklabels=class_labels, cbar=False)\n",
        "\n",
        "#sns.heatmap(cm, annot=True, cmap='Blues', fmt='d', cbar=False)\n",
        "plt.xlabel('Predicted')\n",
        "plt.ylabel('True')\n",
        "plt.title('Confusion Matrix')\n",
        "plt.show()"
      ],
      "metadata": {
        "colab": {
          "base_uri": "https://localhost:8080/",
          "height": 564
        },
        "id": "Thb2JseGkGYi",
        "outputId": "e7401c1f-1939-4a59-9561-e4f3143b8436"
      },
      "execution_count": null,
      "outputs": [
        {
          "output_type": "display_data",
          "data": {
            "text/plain": [
              "<Figure size 800x600 with 1 Axes>"
            ],
            "image/png": "[encoded data removed]"
          },
          "metadata": {}
        }
      ]
    },
    {
      "cell_type": "code",
      "source": [
        "from sklearn.metrics import roc_curve, auc\n",
        "y_proba = svm_classifier.predict_proba(X_test)[:, 1]\n",
        "\n",
        "# Compute ROC curve and ROC area for each class\n",
        "fpr_resnet, tpr_resnet, _ = roc_curve(y_test, y_proba)\n",
        "roc_auc_resnet = auc(fpr_resnet, tpr_resnet)"
      ],
      "metadata": {
        "id": "9xJoCwk_gUCH"
      },
      "execution_count": null,
      "outputs": []
    },
    {
      "cell_type": "code",
      "source": [
        "from sklearn.svm import SVC\n",
        "from sklearn.metrics import accuracy_score\n",
        "import numpy as np\n",
        "\n",
        "# Combine features for normal and anomaly images in the test set\n",
        "X_test = np.concatenate((X_test_normal, X_test_anomaly), axis=0)\n",
        "\n",
        "# Predict labels for the combined test set\n",
        "y_pred_test = svm_classifier.predict(X_test)\n",
        "\n",
        "# True labels for the test set\n",
        "y_true_test = [0]*len(X_test_normal) + [1]*len(X_test_anomaly)\n",
        "\n",
        "# Calculate accuracy on the test set\n",
        "accuracy = accuracy_score(y_true_test, y_pred_test)\n",
        "print(\"Accuracy on test set:\", accuracy)\n",
        "\n",
        "# Identify misclassified images\n",
        "misclassified_normal = [image_name for image_name, pred_label in zip(os.listdir(test_normal_folder), y_pred_test[:len(X_test_normal)]) if pred_label == 1]\n",
        "misclassified_anomaly = [image_name for image_name, pred_label in zip(os.listdir(test_anomaly_folder), y_pred_test[len(X_test_normal):]) if pred_label == 0]\n",
        "\n",
        "print(\"Misclassified normal images:\", misclassified_normal)\n",
        "print(\"Misclassified anomaly images:\", misclassified_anomaly)\n"
      ],
      "metadata": {
        "colab": {
          "base_uri": "https://localhost:8080/"
        },
        "id": "Tsy__tgYkb-0",
        "outputId": "cc16d66c-e94a-4772-e1f7-0609b9c3a53d"
      },
      "execution_count": null,
      "outputs": [
        {
          "output_type": "stream",
          "name": "stdout",
          "text": [
            "Accuracy on test set: 0.775\n",
            "Misclassified normal images: ['Normal_93.jpg', 'Normal_99.jpg']\n",
            "Misclassified anomaly images: ['Anomaly_81.jpg', 'Anomaly_82.jpg', 'Anomaly_87.jpg', 'Anomaly_90.jpg', 'Anomaly_91.jpg', 'Anomaly_92.jpg', 'Anomaly_98.jpg']\n"
          ]
        }
      ]
    },
    {
      "cell_type": "markdown",
      "source": [
        "# VGG 16"
      ],
      "metadata": {
        "id": "K2wkFp5Gv1i1"
      }
    },
    {
      "cell_type": "code",
      "source": [
        "import os\n",
        "import shutil\n",
        "import random\n",
        "import torch\n",
        "import torchvision.transforms as transforms\n",
        "import torchvision.models as models\n",
        "from PIL import Image\n",
        "\n",
        "\n",
        "# Load pre-trained ResNet-50 model\n",
        "model = models.vgg16(pretrained=True)\n",
        "model.eval()\n",
        "\n",
        "# Preprocess input image\n",
        "transform = transforms.Compose([\n",
        "    transforms.Resize((224, 224)),  # Resize the image to fit ResNet input size\n",
        "    transforms.ToTensor(),           # Convert image to tensor\n",
        "    transforms.Normalize(mean=[0.485, 0.456, 0.406], std=[0.229, 0.224, 0.225])  # Normalize image\n",
        "])\n",
        "\n",
        "# Function to extract features and labels\n",
        "def extract_features_and_labels(folder_path, label):\n",
        "    images = os.listdir(folder_path)\n",
        "    features = []\n",
        "    labels = []\n",
        "\n",
        "    for image_name in images:\n",
        "        input_image_path = os.path.join(folder_path, image_name)\n",
        "\n",
        "        input_image = Image.open(input_image_path)\n",
        "        input_tensor = transform(input_image)\n",
        "        input_batch = input_tensor.unsqueeze(0)  # Add batch dimension\n",
        "        with torch.no_grad():\n",
        "            features_tensor = model(input_batch)\n",
        "        feature_vector = features_tensor.squeeze().numpy()\n",
        "        features.append(feature_vector)\n",
        "        labels.append(label)\n",
        "    return features, labels\n",
        "\n",
        "# Path to training folders\n",
        "train_normal_folder = \"/content/drive/MyDrive/MSC_Group_Project/training_normal\"\n",
        "train_anomaly_folder = \"/content/drive/MyDrive/MSC_Group_Project/training_anomaly\"\n",
        "\n",
        "# Extract features and labels for normal images\n",
        "X_train_normal, y_train_normal = extract_features_and_labels(train_normal_folder, label=0)\n",
        "\n",
        "# Extract features and labels for anomaly images\n",
        "X_train_anomaly, y_train_anomaly = extract_features_and_labels(train_anomaly_folder, label=1)\n",
        "\n",
        "# Combine normal and anomaly features and labels\n",
        "X_train = X_train_normal + X_train_anomaly\n",
        "y_train = y_train_normal + y_train_anomaly\n"
      ],
      "metadata": {
        "colab": {
          "base_uri": "https://localhost:8080/"
        },
        "id": "JjFIoVxgv2jE",
        "outputId": "cfe353a0-6369-46cf-fbae-f576528bffbe"
      },
      "execution_count": null,
      "outputs": [
        {
          "output_type": "stream",
          "name": "stderr",
          "text": [
            "/usr/local/lib/python3.10/dist-packages/torchvision/models/_utils.py:208: UserWarning: The parameter 'pretrained' is deprecated since 0.13 and may be removed in the future, please use 'weights' instead.\n",
            "  warnings.warn(\n",
            "/usr/local/lib/python3.10/dist-packages/torchvision/models/_utils.py:223: UserWarning: Arguments other than a weight enum or `None` for 'weights' are deprecated since 0.13 and may be removed in the future. The current behavior is equivalent to passing `weights=VGG16_Weights.IMAGENET1K_V1`. You can also use `weights=VGG16_Weights.DEFAULT` to get the most up-to-date weights.\n",
            "  warnings.warn(msg)\n",
            "Downloading: \"https://download.pytorch.org/models/vgg16-397923af.pth\" to /root/.cache/torch/hub/checkpoints/vgg16-397923af.pth\n",
            "100%|██████████| 528M/528M [00:06<00:00, 83.7MB/s]\n"
          ]
        }
      ]
    },
    {
      "cell_type": "code",
      "source": [
        "import os\n",
        "import shutil\n",
        "import random\n",
        "import torch\n",
        "import torchvision.transforms as transforms\n",
        "import torchvision.models as models\n",
        "from PIL import Image\n",
        "\n",
        "\n",
        "# Load pre-trained ResNet-50 model\n",
        "model = models.vgg16(pretrained=True)\n",
        "model.eval()\n",
        "\n",
        "# Preprocess input image\n",
        "transform = transforms.Compose([\n",
        "    transforms.Resize((224, 224)),  # Resize the image to fit ResNet input size\n",
        "    transforms.ToTensor(),           # Convert image to tensor\n",
        "    transforms.Normalize(mean=[0.485, 0.456, 0.406], std=[0.229, 0.224, 0.225])  # Normalize image\n",
        "])\n",
        "\n",
        "# Function to extract features and labels\n",
        "def extract_features_and_labels(folder_path, label):\n",
        "    images = os.listdir(folder_path)\n",
        "    features = []\n",
        "    labels = []\n",
        "\n",
        "    for image_name in images:\n",
        "        input_image_path = os.path.join(folder_path, image_name)\n",
        "\n",
        "        input_image = Image.open(input_image_path)\n",
        "        input_tensor = transform(input_image)\n",
        "        input_batch = input_tensor.unsqueeze(0)  # Add batch dimension\n",
        "        with torch.no_grad():\n",
        "            features_tensor = model(input_batch)\n",
        "        feature_vector = features_tensor.squeeze().numpy()\n",
        "        features.append(feature_vector)\n",
        "        labels.append(label)\n",
        "    return features, labels\n",
        "\n",
        "# Path to training folders\n",
        "test_normal_folder = \"/content/drive/MyDrive/MSC_Group_Project/test_normal\"\n",
        "test_anomaly_folder = \"/content/drive/MyDrive/MSC_Group_Project/test_anomaly\"\n",
        "\n",
        "# Extract features and labels for normal images\n",
        "X_test_normal, y_test_normal = extract_features_and_labels(test_normal_folder, label=0)\n",
        "\n",
        "# Extract features and labels for anomaly images\n",
        "X_test_anomaly, y_test_anomaly = extract_features_and_labels(test_anomaly_folder, label=1)\n",
        "\n",
        "# Combine normal and anomaly features and labels\n",
        "X_test = X_test_normal + X_test_anomaly\n",
        "y_test = y_test_normal + y_test_anomaly\n"
      ],
      "metadata": {
        "id": "yFUKTKewwFvI"
      },
      "execution_count": null,
      "outputs": []
    },
    {
      "cell_type": "code",
      "source": [
        "from sklearn.svm import SVC\n",
        "from sklearn.metrics import accuracy_score\n",
        "import joblib\n",
        "\n",
        "# Train a Support Vector Machine (SVM) classifier\n",
        "svm_classifier = SVC(probability=True)\n",
        "svm_classifier.fit(X_train, y_train)\n",
        "\n",
        "# Make predictions on the test set\n",
        "y_pred = svm_classifier.predict(X_test)\n",
        "\n",
        "# Evaluate the model's accuracy\n",
        "accuracy = accuracy_score(y_test, y_pred)\n",
        "print(f\"Accuracy: {accuracy * 100:.2f}%\")\n",
        "#joblib.dump(svm_classifier,\"/content/drive/MyDrive/MSC_Group_Project/model/vgg16_model2.pkl\")"
      ],
      "metadata": {
        "colab": {
          "base_uri": "https://localhost:8080/"
        },
        "id": "_OnrVe52wqyV",
        "outputId": "45585701-28a2-4e5e-885c-602f4934f94f"
      },
      "execution_count": null,
      "outputs": [
        {
          "output_type": "stream",
          "name": "stdout",
          "text": [
            "Accuracy: 85.00%\n"
          ]
        }
      ]
    },
    {
      "cell_type": "code",
      "source": [
        "from sklearn.metrics import confusion_matrix\n",
        "import matplotlib.pyplot as plt\n",
        "import seaborn as sns\n",
        "\n",
        "\n",
        "\n",
        "# Compute confusion matrix\n",
        "cm = confusion_matrix(y_test, y_pred)\n",
        "\n",
        "class_labels = ['Normal', 'Anomaly']\n",
        "\n",
        "# Plot confusion matrix\n",
        "plt.figure(figsize=(8, 6))\n",
        "sns.heatmap(cm, annot=True, cmap='Blues', fmt='g', xticklabels=class_labels, yticklabels=class_labels, cbar=False)\n",
        "\n",
        "#sns.heatmap(cm, annot=True, cmap='Blues', fmt='d', cbar=False)\n",
        "plt.xlabel('Predicted')\n",
        "plt.ylabel('True')\n",
        "plt.title('Confusion Matrix')\n",
        "plt.show()"
      ],
      "metadata": {
        "colab": {
          "base_uri": "https://localhost:8080/",
          "height": 564
        },
        "id": "D8_i_x-fw1Ra",
        "outputId": "736ae024-378d-48cf-9d4f-c4c03ed92acd"
      },
      "execution_count": null,
      "outputs": [
        {
          "output_type": "display_data",
          "data": {
            "text/plain": [
              "<Figure size 800x600 with 1 Axes>"
            ],
            "image/png": "[encoded data removed]"
          },
          "metadata": {}
        }
      ]
    },
    {
      "cell_type": "code",
      "source": [
        "from sklearn.svm import SVC\n",
        "from sklearn.metrics import accuracy_score\n",
        "import numpy as np\n",
        "\n",
        "# Combine features for normal and anomaly images in the test set\n",
        "X_test = np.concatenate((X_test_normal, X_test_anomaly), axis=0)\n",
        "\n",
        "# Predict labels for the combined test set\n",
        "y_pred_test = svm_classifier.predict(X_test)\n",
        "\n",
        "# True labels for the test set\n",
        "y_true_test = [0]*len(X_test_normal) + [1]*len(X_test_anomaly)\n",
        "\n",
        "# Calculate accuracy on the test set\n",
        "accuracy = accuracy_score(y_true_test, y_pred_test)\n",
        "print(\"Accuracy on test set:\", accuracy)\n",
        "\n",
        "# Identify misclassified images\n",
        "misclassified_normal = [image_name for image_name, pred_label in zip(os.listdir(test_normal_folder), y_pred_test[:len(X_test_normal)]) if pred_label == 1]\n",
        "misclassified_anomaly = [image_name for image_name, pred_label in zip(os.listdir(test_anomaly_folder), y_pred_test[len(X_test_normal):]) if pred_label == 0]\n",
        "\n",
        "print(\"Misclassified normal images:\", misclassified_normal)\n",
        "print(\"Misclassified anomaly images:\", misclassified_anomaly)\n"
      ],
      "metadata": {
        "colab": {
          "base_uri": "https://localhost:8080/"
        },
        "id": "SeYpXfjbw6lD",
        "outputId": "1b32d549-7a7c-4975-8a88-8533c33cd4b9"
      },
      "execution_count": null,
      "outputs": [
        {
          "output_type": "stream",
          "name": "stdout",
          "text": [
            "Accuracy on test set: 0.85\n",
            "Misclassified normal images: ['Normal_87.jpg', 'Normal_98.jpg']\n",
            "Misclassified anomaly images: ['Anomaly_90.jpg', 'Anomaly_92.jpg', 'Anomaly_97.jpg', 'Anomaly_98.jpg']\n"
          ]
        }
      ]
    },
    {
      "cell_type": "code",
      "source": [
        "from sklearn.metrics import roc_curve, auc\n",
        "y_proba = svm_classifier.predict_proba(X_test)[:, 1]\n",
        "\n",
        "# Compute ROC curve and ROC area for each class\n",
        "fpr_vgg16_1, tpr_vgg16_1, _ = roc_curve(y_test, y_proba)\n",
        "roc_auc_simple = auc(fpr_vgg16_1, tpr_vgg16_1)"
      ],
      "metadata": {
        "id": "JZd6mjM_jJ04"
      },
      "execution_count": null,
      "outputs": []
    },
    {
      "cell_type": "markdown",
      "source": [
        "# hyper parameter Tuning of SVM after extracting features with VGG16"
      ],
      "metadata": {
        "id": "AiR1Z2uyzfqo"
      }
    },
    {
      "cell_type": "code",
      "source": [
        "from sklearn.model_selection import GridSearchCV\n",
        "param_grid = {\n",
        "    'C': [0.1, 1, 10, 100],\n",
        "    'kernel': ['linear', 'rbf', 'poly'],\n",
        "    'gamma': [0.01, 0.1, 1, 'scale']\n",
        "}\n",
        "\n",
        "# Create the GridSearchCV object\n",
        "grid_search = GridSearchCV(SVC(probability=True), param_grid, cv=5, scoring='accuracy')\n",
        "\n",
        "# Fit the GridSearchCV object to the training data\n",
        "grid_search.fit(X_train, y_train)\n",
        "\n",
        "# Print the best hyperparameters and the corresponding score\n",
        "print(\"Best Hyperparameters:\", grid_search.best_params_)\n",
        "print(\"Best Score:\", grid_search.best_score_)\n",
        "\n",
        "# Evaluate the best model on the test set\n",
        "best_model = grid_search.best_estimator_\n",
        "test_score = best_model.score(X_test, y_test)\n",
        "print(\"Test Score:\", test_score)"
      ],
      "metadata": {
        "colab": {
          "base_uri": "https://localhost:8080/"
        },
        "id": "tE9NNi_7yGfS",
        "outputId": "d669f508-00c2-4931-a065-136b1aeb423f"
      },
      "execution_count": null,
      "outputs": [
        {
          "output_type": "stream",
          "name": "stdout",
          "text": [
            "Best Hyperparameters: {'C': 0.1, 'gamma': 0.01, 'kernel': 'linear'}\n",
            "Best Score: 0.9125\n",
            "Test Score: 0.9\n"
          ]
        }
      ]
    },
    {
      "cell_type": "code",
      "source": [
        "from sklearn.svm import SVC\n",
        "from sklearn.metrics import accuracy_score\n",
        "import joblib\n",
        "\n",
        "# Train a Support Vector Machine (SVM) classifier\n",
        "svm_classifier = SVC(probability=True,C=1,gamma=0.01,kernel=\"linear\")\n",
        "svm_classifier.fit(X_train, y_train)\n",
        "\n",
        "# Make predictions on the test set\n",
        "y_pred = svm_classifier.predict(X_test)\n",
        "\n",
        "# Evaluate the model's accuracy\n",
        "accuracy = accuracy_score(y_test, y_pred)\n",
        "print(f\"Accuracy: {accuracy * 100:.2f}%\")\n",
        "#joblib.dump(svm_classifier,\"/content/drive/MyDrive/MSC_Group_Project/model/vgg16_model_3.pkl\")"
      ],
      "metadata": {
        "colab": {
          "base_uri": "https://localhost:8080/"
        },
        "id": "AywyrqJvyTHO",
        "outputId": "7e3814e6-22e7-4b75-9dbc-84f12021235b"
      },
      "execution_count": null,
      "outputs": [
        {
          "output_type": "stream",
          "name": "stdout",
          "text": [
            "Accuracy: 90.00%\n"
          ]
        }
      ]
    },
    {
      "cell_type": "code",
      "source": [
        "from sklearn.metrics import accuracy_score,confusion_matrix,classification_report\n",
        "print(classification_report(y_test,y_pred))"
      ],
      "metadata": {
        "colab": {
          "base_uri": "https://localhost:8080/"
        },
        "id": "XmhiSiwGQWnm",
        "outputId": "896a2859-3b79-4388-d287-d52e0f5df001"
      },
      "execution_count": null,
      "outputs": [
        {
          "output_type": "stream",
          "name": "stdout",
          "text": [
            "              precision    recall  f1-score   support\n",
            "\n",
            "           0       0.90      0.90      0.90        20\n",
            "           1       0.90      0.90      0.90        20\n",
            "\n",
            "    accuracy                           0.90        40\n",
            "   macro avg       0.90      0.90      0.90        40\n",
            "weighted avg       0.90      0.90      0.90        40\n",
            "\n"
          ]
        }
      ]
    },
    {
      "cell_type": "code",
      "source": [
        "from sklearn.metrics import roc_curve, auc\n",
        "y_proba = svm_classifier.predict_proba(X_test)[:, 1]\n",
        "\n",
        "# Compute ROC curve and ROC area for each class\n",
        "fpr_vgg16_2, tpr_vgg16_2, _ = roc_curve(y_test, y_proba)\n",
        "roc_auc_hp = auc(fpr_vgg16_2, tpr_vgg16_2)"
      ],
      "metadata": {
        "id": "fmQ-MENEjbol"
      },
      "execution_count": null,
      "outputs": []
    },
    {
      "cell_type": "code",
      "source": [
        "from sklearn.metrics import confusion_matrix\n",
        "import matplotlib.pyplot as plt\n",
        "import seaborn as sns\n",
        "\n",
        "\n",
        "\n",
        "# Compute confusion matrix\n",
        "cm = confusion_matrix(y_test, y_pred)\n",
        "\n",
        "class_labels = ['Normal', 'Anomaly']\n",
        "\n",
        "# Plot confusion matrix\n",
        "plt.figure(figsize=(8, 6))\n",
        "sns.heatmap(cm, annot=True, cmap='Blues', fmt='g', xticklabels=class_labels, yticklabels=class_labels, cbar=False)\n",
        "\n",
        "#sns.heatmap(cm, annot=True, cmap='Blues', fmt='d', cbar=False)\n",
        "plt.xlabel('Predicted')\n",
        "plt.ylabel('True')\n",
        "plt.title('Confusion Matrix')\n",
        "plt.show()"
      ],
      "metadata": {
        "colab": {
          "base_uri": "https://localhost:8080/",
          "height": 564
        },
        "id": "TFjn-_4hykib",
        "outputId": "b4688fcd-be2d-41d1-c7ad-81d3053cc512"
      },
      "execution_count": null,
      "outputs": [
        {
          "output_type": "display_data",
          "data": {
            "text/plain": [
              "<Figure size 800x600 with 1 Axes>"
            ],
            "image/png": "[encoded data removed]"
          },
          "metadata": {}
        }
      ]
    },
    {
      "cell_type": "code",
      "source": [
        "from sklearn.svm import SVC\n",
        "from sklearn.metrics import accuracy_score\n",
        "import numpy as np\n",
        "\n",
        "# Combine features for normal and anomaly images in the test set\n",
        "X_test = np.concatenate((X_test_normal, X_test_anomaly), axis=0)\n",
        "\n",
        "# Predict labels for the combined test set\n",
        "y_pred_test = svm_classifier.predict(X_test)\n",
        "\n",
        "# True labels for the test set\n",
        "y_true_test = [0]*len(X_test_normal) + [1]*len(X_test_anomaly)\n",
        "\n",
        "# Calculate accuracy on the test set\n",
        "accuracy = accuracy_score(y_true_test, y_pred_test)\n",
        "print(\"Accuracy on test set:\", accuracy)\n",
        "\n",
        "# Identify misclassified images\n",
        "misclassified_normal = [image_name for image_name, pred_label in zip(os.listdir(test_normal_folder), y_pred_test[:len(X_test_normal)]) if pred_label == 1]\n",
        "misclassified_anomaly = [image_name for image_name, pred_label in zip(os.listdir(test_anomaly_folder), y_pred_test[len(X_test_normal):]) if pred_label == 0]\n",
        "\n",
        "print(\"Misclassified normal images:\", misclassified_normal)\n",
        "print(\"Misclassified anomaly images:\", misclassified_anomaly)\n"
      ],
      "metadata": {
        "colab": {
          "base_uri": "https://localhost:8080/"
        },
        "id": "aE6x-RmYyqQw",
        "outputId": "75426975-69ca-4f8f-dece-e6aa4832271d"
      },
      "execution_count": null,
      "outputs": [
        {
          "output_type": "stream",
          "name": "stdout",
          "text": [
            "Accuracy on test set: 0.9\n",
            "Misclassified normal images: ['Normal_95.jpg', 'Normal_98.jpg']\n",
            "Misclassified anomaly images: ['Anomaly_97.jpg', 'Anomaly_98.jpg']\n"
          ]
        }
      ]
    },
    {
      "cell_type": "markdown",
      "source": [
        "# ROC/AUC Curve"
      ],
      "metadata": {
        "id": "rZJUR_KUlYZ8"
      }
    },
    {
      "cell_type": "code",
      "source": [
        "\n",
        "plt.figure()\n",
        "plt.plot(fpr_resnet, tpr_resnet, color='darkorange', lw=2, label='ROC curve RESNET50 (area = %0.2f)' % roc_auc_resnet)\n",
        "plt.plot(fpr_vgg16_1, tpr_vgg16_1, color='green', lw=2, label='ROC curve VGG16 (area = %0.2f)' % roc_auc_simple)\n",
        "plt.plot(fpr_vgg16_2, tpr_vgg16_2, color='black', lw=2, label='ROC curve VGG16 HP (area = %0.2f)' % roc_auc_hp,linestyle=\"dashdot\")\n",
        "#plt.plot(fpr_hp, tpr_hp, color='red', lw=2, label='ROC curve after tuning SVM (area = %0.2f)' % roc_auc_hp,linestyle=\"dashdot\")\n",
        "\n",
        "\n",
        "plt.plot([0, 1], [0, 1], color='navy', lw=2, linestyle='--')\n",
        "plt.xlim([0.0, 1.0])\n",
        "plt.ylim([0.0, 1.05])\n",
        "plt.xlabel('False Positive Rate')\n",
        "plt.ylabel('True Positive Rate')\n",
        "plt.title('Receiver Operating Characteristic (ROC) Curve')\n",
        "plt.legend(loc=\"lower right\")\n",
        "plt.show()"
      ],
      "metadata": {
        "colab": {
          "base_uri": "https://localhost:8080/",
          "height": 472
        },
        "id": "xxUrKQbEjm4s",
        "outputId": "ec52e8f2-060a-4fcd-b2f3-3411f6abd215"
      },
      "execution_count": null,
      "outputs": [
        {
          "output_type": "display_data",
          "data": {
            "text/plain": [
              "<Figure size 640x480 with 1 Axes>"
            ],
            "image/png": "[encoded data removed]"
          },
          "metadata": {}
        }
      ]
    }
  ]
}