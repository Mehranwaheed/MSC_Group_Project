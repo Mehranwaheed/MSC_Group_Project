{
  "nbformat": 4,
  "nbformat_minor": 0,
  "metadata": {
    "colab": {
      "provenance": [],
      "mount_file_id": "1ODOVRGB08DF3E--SERvwnDmgQixQzLvA",
      "authorship_tag": "ABX9TyMwTapE+ZTaIpHUpRFcNp6i",
      "include_colab_link": true
    },
    "kernelspec": {
      "name": "python3",
      "display_name": "Python 3"
    },
    "language_info": {
      "name": "python"
    }
  },
  "cells": [
    {
      "cell_type": "markdown",
      "metadata": {
        "id": "view-in-github",
        "colab_type": "text"
      },
      "source": [
        "<a href=\"https://colab.research.google.com/github/Mehranwaheed/MSC_Group_Project/blob/main/new_prototype.ipynb\" target=\"_parent\"><img src=\"https://colab.research.google.com/assets/colab-badge.svg\" alt=\"Open In Colab\"/></a>"
      ]
    },
    {
      "cell_type": "markdown",
      "source": [
        "# vgg 16"
      ],
      "metadata": {
        "id": "0K2TWJE_xbNo"
      }
    },
    {
      "cell_type": "code",
      "source": [
        "import warnings\n",
        "\n",
        "warnings.filterwarnings(\"ignore\", category=UserWarning, module=\"torchvision.models._utils\")"
      ],
      "metadata": {
        "id": "H0DJMOxD4Xx8"
      },
      "execution_count": 5,
      "outputs": []
    },
    {
      "cell_type": "code",
      "source": [
        "image_path = \"/content/drive/MyDrive/faulty-product-detection/Data/Cropped/Anomaly/021.JPG\""
      ],
      "metadata": {
        "id": "jnR5MkeK5JJO"
      },
      "execution_count": 15,
      "outputs": []
    },
    {
      "cell_type": "code",
      "source": [
        "from google.colab import drive\n",
        "#drive.mount('/content/drive')\n",
        "\n",
        "def extract_features_v(folder_path):\n",
        "  import torchvision.models as models\n",
        "  import os\n",
        "  import shutil\n",
        "  import random\n",
        "  import torch\n",
        "  import torchvision.transforms as transforms\n",
        "  import torchvision.models as models\n",
        "  from PIL import Image\n",
        "  model = models.vgg16(pretrained=True)\n",
        "  model.eval()\n",
        "  features=[]\n",
        "  input_image = Image.open(folder_path)\n",
        "  transform = transforms.Compose([\n",
        "    transforms.Resize((224, 224)),  # Resize the image to fit ResNet input size\n",
        "    transforms.ToTensor(),           # Convert image to tensor\n",
        "    transforms.Normalize(mean=[0.485, 0.456, 0.406], std=[0.229, 0.224, 0.225])  # Normalize image\n",
        "])\n",
        "\n",
        "  input_tensor = transform(input_image)\n",
        "  input_batch = input_tensor.unsqueeze(0)  # Add batch dimension\n",
        "  with torch.no_grad():\n",
        "\n",
        "    features_tensor = model(input_batch)\n",
        "  feature_vector = features_tensor.squeeze().numpy()\n",
        "  features.append(feature_vector)\n",
        "\n",
        "  return features\n"
      ],
      "metadata": {
        "id": "FqJsQ-U1o9Rk"
      },
      "execution_count": 1,
      "outputs": []
    },
    {
      "cell_type": "code",
      "source": [
        "def model_loading(model_path):\n",
        "  import joblib\n",
        "  model=joblib.load(model_path)\n",
        "  return model\n",
        "def making_prediction(model):\n",
        "  predict=model.predict(feature)\n",
        "  return predict\n",
        "def checking_pred(predict):\n",
        "  if predict[0]==1:\n",
        "    print(\"Anomaly\")\n",
        "  elif predict[0]==0:\n",
        "    print(\"Normal\")\n",
        "#checking_pred(predict)"
      ],
      "metadata": {
        "id": "YWDBpMZ3IZrB"
      },
      "execution_count": 2,
      "outputs": []
    },
    {
      "cell_type": "markdown",
      "source": [
        "# Full image Model"
      ],
      "metadata": {
        "id": "5JrEDiUa474k"
      }
    },
    {
      "cell_type": "code",
      "source": [
        "model_loading=(\"/content/drive/MyDrive/MSC_Group_Project/model/vgg16_model2.pkl\")\n",
        "vgg_12=joblib.load(model_loading)\n",
        "#image_path=\"/content/drive/MyDrive/MSC_Group_Project/test_anomaly/Anomaly_97.jpg\"\n",
        "feature=extract_features_v(image_path)\n",
        "x=making_prediction(vgg_12)\n",
        "\n",
        "y=checking_pred(x)"
      ],
      "metadata": {
        "colab": {
          "base_uri": "https://localhost:8080/"
        },
        "id": "O9mKDp9T4zag",
        "outputId": "623ae3ff-83dd-4a17-c8e5-b49d7781f90c"
      },
      "execution_count": 14,
      "outputs": [
        {
          "output_type": "stream",
          "name": "stdout",
          "text": [
            "Normal\n"
          ]
        }
      ]
    },
    {
      "cell_type": "markdown",
      "source": [
        "# subimage prototype"
      ],
      "metadata": {
        "id": "6lU42yCf8Pzk"
      }
    },
    {
      "cell_type": "code",
      "source": [
        "import cv2\n",
        "import os\n",
        "\n",
        "def divide_image_into_parts(image_path, output_folder):\n",
        "    # Read the image\n",
        "    image = cv2.imread(image_path)\n",
        "\n",
        "    # Check if the image is read successfully\n",
        "    if image is None:\n",
        "        print(\"Error: Could not read the image.\")\n",
        "        return\n",
        "\n",
        "    # Divide the image into parts\n",
        "    height, width = image.shape[:2]\n",
        "    part_height = height // 3\n",
        "    part_width = width // 3\n",
        "\n",
        "    file_counter = 0\n",
        "\n",
        "    for i in range(3):\n",
        "        for j in range(3):\n",
        "            part = image[i * part_height: (i + 1) * part_height, j * part_width: (j + 1) * part_width]\n",
        "            file_counter += 1\n",
        "\n",
        "            fname = str(file_counter) + \".JPG\"\n",
        "            output_path = os.path.join(output_folder, fname)\n",
        "            cv2.imwrite(output_path, part)\n",
        "\n",
        "    print(\"Image divided into parts and saved successfully.\")\n",
        "\n",
        "dst = \"/content/drive/MyDrive/faulty-product-detection/temp\"\n",
        "\n",
        "\n",
        "divide_image_into_parts(image_path, dst)\n"
      ],
      "metadata": {
        "colab": {
          "base_uri": "https://localhost:8080/"
        },
        "id": "o6eJri-v5RoZ",
        "outputId": "1dc9ccdd-f1d7-4421-9028-3532120dbdc5"
      },
      "execution_count": 7,
      "outputs": [
        {
          "output_type": "stream",
          "name": "stdout",
          "text": [
            "Image divided into parts and saved successfully.\n"
          ]
        }
      ]
    },
    {
      "cell_type": "code",
      "source": [
        "import joblib\n",
        "vgg_16=\"/content/drive/MyDrive/faulty-product-detection/Models/vgg_16.pkl\"\n",
        "model=joblib.load(vgg_16)"
      ],
      "metadata": {
        "id": "jCp_mhol8qDV"
      },
      "execution_count": 9,
      "outputs": []
    },
    {
      "cell_type": "code",
      "source": [
        "import warnings\n",
        "\n",
        "# Ignore all warnings\n",
        "warnings.filterwarnings(\"ignore\")\n",
        "temp_folder=\"/content/drive/MyDrive/faulty-product-detection/temp\"\n",
        "import os\n",
        "import matplotlib.pyplot as plt\n",
        "\n",
        "pred_list_2=[]\n",
        "for filename in os.listdir(temp_folder):\n",
        "\n",
        "  image_path = os.path.join(temp_folder, filename)\n",
        "  featrues_v=extract_features_v(image_path)\n",
        "  prediction_2=model.predict(featrues_v)\n",
        "  pred_list_2.append(prediction_2)\n",
        "\n",
        "\n",
        "\n",
        "\n",
        "print(pred_list_2)"
      ],
      "metadata": {
        "colab": {
          "base_uri": "https://localhost:8080/"
        },
        "id": "3OI8AniG9MrN",
        "outputId": "6cb8507c-fdd2-43ff-ce3d-c3d8f1f44ba6"
      },
      "execution_count": 10,
      "outputs": [
        {
          "output_type": "stream",
          "name": "stdout",
          "text": [
            "[array([0]), array([0]), array([0]), array([1]), array([1]), array([1]), array([0]), array([0]), array([0])]\n"
          ]
        }
      ]
    },
    {
      "cell_type": "markdown",
      "source": [
        "# Ensemble Mechanism"
      ],
      "metadata": {
        "id": "YWO0O6FY2o65"
      }
    },
    {
      "cell_type": "code",
      "source": [
        "resnet_res = 0\n",
        "for y in pred_list_2:\n",
        "  resnet_res = resnet_res + y\n",
        "# print(resnet_res)\n",
        "\n",
        "if resnet_res > 0 or x > 0:\n",
        "  print('Anomaly')"
      ],
      "metadata": {
        "colab": {
          "base_uri": "https://localhost:8080/"
        },
        "id": "XvBGhev1NXFS",
        "outputId": "8635271e-7b69-4311-be17-284ccf2ce1cf"
      },
      "execution_count": 13,
      "outputs": [
        {
          "output_type": "stream",
          "name": "stdout",
          "text": [
            "Anomaly\n"
          ]
        }
      ]
    }
  ]
}