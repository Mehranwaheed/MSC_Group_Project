{
  "nbformat": 4,
  "nbformat_minor": 0,
  "metadata": {
    "colab": {
      "provenance": []
    },
    "kernelspec": {
      "name": "python3",
      "display_name": "Python 3"
    },
    "language_info": {
      "name": "python"
    }
  },
  "cells": [
    {
      "cell_type": "code",
      "execution_count": null,
      "metadata": {
        "id": "vR9gyhzLkO_L",
        "colab": {
          "base_uri": "https://localhost:8080/"
        },
        "outputId": "28bd05f9-275b-4aac-d0bb-c220ffec927f"
      },
      "outputs": [
        {
          "output_type": "stream",
          "name": "stdout",
          "text": [
            "Anomaly folder copied successfully!\n"
          ]
        }
      ],
      "source": [
        "import cv2\n",
        "import os\n",
        "import shutil\n",
        "import numpy as np\n",
        "from google.colab import drive\n",
        "\n",
        "\n",
        "# drive.mount('/content/drive')\n",
        "\n",
        "\n",
        "src = \"/content/drive/MyDrive/Colab Notebooks/faulty-product-detection/Data/Unprocessed/Anomaly\"\n",
        "aug = \"/content/drive/MyDrive/Colab Notebooks/faulty-product-detection/Data/Augmented_Anomaly\"\n",
        "\n",
        "\n",
        "shutil.copytree(src, aug)\n",
        "print(\"Anomaly folder copied successfully!\")\n",
        "\n",
        "\n",
        "\n",
        "angles = [30, 60, 90, 120, 150, 180, 210, 240, 270]\n",
        "center = (750, 500)\n",
        "radius = 750\n",
        "\n",
        "for image_file in os.listdir(aug):\n",
        "  image_path = os.path.join(aug, image_file)\n",
        "  image = cv2.imread(image_path)\n",
        "\n",
        "\n",
        "  mask = np.zeros_like(image[:, :, 0])\n",
        "  cv2.circle(mask, center, radius, (255, 255, 255), -1)\n",
        "\n",
        "  for angle in angles:\n",
        "    rotation_matrix = cv2.getRotationMatrix2D(center, angle, 1)\n",
        "    rotated_circular_part = cv2.warpAffine(image, rotation_matrix, (image.shape[1], image.shape[0]))\n",
        "\n",
        "    rotated_circular_part = cv2.bitwise_and(rotated_circular_part, rotated_circular_part, mask=mask)\n",
        "    result = cv2.bitwise_or(cv2.bitwise_and(image, image, mask=~mask), rotated_circular_part)\n",
        "    dst_path = os.path.join(aug, image_file)\n",
        "    base, extn = os.path.splitext(dst_path)\n",
        "    dst_path = base + '_' + str(angle) + extn\n",
        "    cv2.imwrite(dst_path, result)\n",
        "\n"
      ]
    }
  ]
}