{
  "nbformat": 4,
  "nbformat_minor": 0,
  "metadata": {
    "colab": {
      "provenance": [],
      "mount_file_id": "1dafSFIrtTxL0eS3idjJHBtc79OKcC0KD",
      "authorship_tag": "ABX9TyOiLn8duFSsz7MDqx7DfU1a",
      "include_colab_link": true
    },
    "kernelspec": {
      "name": "python3",
      "display_name": "Python 3"
    },
    "language_info": {
      "name": "python"
    }
  },
  "cells": [
    {
      "cell_type": "markdown",
      "metadata": {
        "id": "view-in-github",
        "colab_type": "text"
      },
      "source": [
        "<a href=\"https://colab.research.google.com/github/Mehranwaheed/MSC_Group_Project/blob/main/subimages_v02.ipynb\" target=\"_parent\"><img src=\"https://colab.research.google.com/assets/colab-badge.svg\" alt=\"Open In Colab\"/></a>"
      ]
    },
    {
      "cell_type": "code",
      "execution_count": null,
      "metadata": {
        "colab": {
          "base_uri": "https://localhost:8080/"
        },
        "id": "dyaZfytGR5mE",
        "outputId": "c7ad00b4-d557-4657-8736-fa65b39a757b"
      },
      "outputs": [
        {
          "output_type": "stream",
          "name": "stderr",
          "text": [
            "/usr/local/lib/python3.10/dist-packages/torchvision/models/_utils.py:208: UserWarning: The parameter 'pretrained' is deprecated since 0.13 and may be removed in the future, please use 'weights' instead.\n",
            "  warnings.warn(\n",
            "/usr/local/lib/python3.10/dist-packages/torchvision/models/_utils.py:223: UserWarning: Arguments other than a weight enum or `None` for 'weights' are deprecated since 0.13 and may be removed in the future. The current behavior is equivalent to passing `weights=ResNet50_Weights.IMAGENET1K_V1`. You can also use `weights=ResNet50_Weights.DEFAULT` to get the most up-to-date weights.\n",
            "  warnings.warn(msg)\n"
          ]
        }
      ],
      "source": [
        "import os\n",
        "import shutil\n",
        "import random\n",
        "import torch\n",
        "import torchvision.transforms as transforms\n",
        "import torchvision.models as models\n",
        "from PIL import Image\n",
        "\n",
        "\n",
        "# Load pre-trained ResNet-50 model\n",
        "model = models.resnet50(pretrained=True)\n",
        "model.eval()\n",
        "\n",
        "# Preprocess input image\n",
        "transform = transforms.Compose([\n",
        "    transforms.Resize((224, 224)),  # Resize the image to fit ResNet input size\n",
        "    transforms.ToTensor(),           # Convert image to tensor\n",
        "    transforms.Normalize(mean=[0.485, 0.456, 0.406], std=[0.229, 0.224, 0.225])  # Normalize image\n",
        "])\n",
        "\n",
        "# Function to extract features and labels\n",
        "def extract_features_and_labels(folder_path, label):\n",
        "    images = os.listdir(folder_path)\n",
        "    features = []\n",
        "    labels = []\n",
        "\n",
        "    for image_name in images:\n",
        "        input_image_path = os.path.join(folder_path, image_name)\n",
        "\n",
        "        input_image = Image.open(input_image_path)\n",
        "        input_tensor = transform(input_image)\n",
        "        input_batch = input_tensor.unsqueeze(0)  # Add batch dimension\n",
        "        with torch.no_grad():\n",
        "            features_tensor = model(input_batch)\n",
        "        feature_vector = features_tensor.squeeze().numpy()\n",
        "        features.append(feature_vector)\n",
        "        labels.append(label)\n",
        "    return features, labels\n",
        "\n",
        "# Path to training folders\n",
        "train_normal_folder = \"/content/drive/MyDrive/faulty-product-detection/Data/Sub Images/Train/Normal\"\n",
        "train_anomaly_folder = \"/content/drive/MyDrive/faulty-product-detection/Data/Sub Images/Train/Anomaly\"\n",
        "\n",
        "# Extract features and labels for normal images\n",
        "X_train_normal, y_train_normal = extract_features_and_labels(train_normal_folder, label=0)\n",
        "\n",
        "# Extract features and labels for anomaly images\n",
        "X_train_anomaly, y_train_anomaly = extract_features_and_labels(train_anomaly_folder, label=1)\n",
        "\n",
        "# Combine normal and anomaly features and labels\n",
        "X_train = X_train_normal + X_train_anomaly\n",
        "y_train = y_train_normal + y_train_anomaly\n"
      ]
    },
    {
      "cell_type": "code",
      "source": [
        "import os\n",
        "import shutil\n",
        "import random\n",
        "import torch\n",
        "import torchvision.transforms as transforms\n",
        "import torchvision.models as models\n",
        "from PIL import Image\n",
        "\n",
        "\n",
        "# Load pre-trained ResNet-50 model\n",
        "model = models.resnet50(pretrained=True)\n",
        "model.eval()\n",
        "\n",
        "# Preprocess input image\n",
        "transform = transforms.Compose([\n",
        "    transforms.Resize((224, 224)),  # Resize the image to fit ResNet input size\n",
        "    transforms.ToTensor(),           # Convert image to tensor\n",
        "    transforms.Normalize(mean=[0.485, 0.456, 0.406], std=[0.229, 0.224, 0.225])  # Normalize image\n",
        "])\n",
        "\n",
        "# Function to extract features and labels\n",
        "def extract_features_and_labels(folder_path, label):\n",
        "    images = os.listdir(folder_path)\n",
        "    features = []\n",
        "    labels = []\n",
        "\n",
        "    for image_name in images:\n",
        "        input_image_path = os.path.join(folder_path, image_name)\n",
        "\n",
        "        input_image = Image.open(input_image_path)\n",
        "        input_tensor = transform(input_image)\n",
        "        input_batch = input_tensor.unsqueeze(0)  # Add batch dimension\n",
        "        with torch.no_grad():\n",
        "            features_tensor = model(input_batch)\n",
        "        feature_vector = features_tensor.squeeze().numpy()\n",
        "        features.append(feature_vector)\n",
        "        labels.append(label)\n",
        "    return features, labels\n",
        "\n",
        "# Path to training folders\n",
        "test_normal_folder = \"/content/drive/MyDrive/faulty-product-detection/Data/Sub Images/Test/Normal\"\n",
        "test_anomaly_folder = \"/content/drive/MyDrive/faulty-product-detection/Data/Sub Images/Test/Anomaly\"\n",
        "\n",
        "# Extract features and labels for normal images\n",
        "X_test_normal, y_test_normal = extract_features_and_labels(test_normal_folder, label=0)\n",
        "\n",
        "# Extract features and labels for anomaly images\n",
        "X_test_anomaly, y_test_anomaly = extract_features_and_labels(test_anomaly_folder, label=1)\n",
        "\n",
        "# Combine normal and anomaly features and labels\n",
        "X_test = X_test_normal + X_test_anomaly\n",
        "y_test = y_test_normal + y_test_anomaly\n"
      ],
      "metadata": {
        "id": "XogPHQWASiQ_"
      },
      "execution_count": null,
      "outputs": []
    },
    {
      "cell_type": "code",
      "source": [
        "from sklearn.svm import SVC\n",
        "from sklearn.metrics import accuracy_score\n",
        "import joblib\n",
        "\n",
        "# Train a Support Vector Machine (SVM) classifier\n",
        "svm_classifier = SVC(probability=True)\n",
        "svm_classifier.fit(X_train, y_train)\n",
        "\n",
        "# Make predictions on the test set\n",
        "y_pred = svm_classifier.predict(X_test)\n",
        "\n",
        "# Evaluate the model's accuracy\n",
        "accuracy = accuracy_score(y_test, y_pred)\n",
        "print(f\"Accuracy: {accuracy * 100:.2f}%\")"
      ],
      "metadata": {
        "colab": {
          "base_uri": "https://localhost:8080/"
        },
        "id": "GJ9TupNwSt1W",
        "outputId": "cdec96fa-1605-4eb9-941f-14c513c30597"
      },
      "execution_count": null,
      "outputs": [
        {
          "output_type": "stream",
          "name": "stdout",
          "text": [
            "Accuracy: 90.50%\n"
          ]
        }
      ]
    },
    {
      "cell_type": "code",
      "source": [
        "import joblib\n",
        "#joblib.dump(svm_classifier,\"/content/drive/MyDrive/faulty-product-detection/Models/resnet_50.pkl\")"
      ],
      "metadata": {
        "id": "agCjDH5OZ8VJ"
      },
      "execution_count": null,
      "outputs": []
    },
    {
      "cell_type": "code",
      "source": [
        "from sklearn.metrics import confusion_matrix\n",
        "import matplotlib.pyplot as plt\n",
        "import seaborn as sns\n",
        "\n",
        "\n",
        "\n",
        "# Compute confusion matrix\n",
        "cm = confusion_matrix(y_test, y_pred)\n",
        "\n",
        "class_labels = ['Normal', 'Anomaly']\n",
        "\n",
        "# Plot confusion matrix\n",
        "plt.figure(figsize=(8, 6))\n",
        "sns.heatmap(cm, annot=True, cmap='Blues', fmt='g', xticklabels=class_labels, yticklabels=class_labels, cbar=False)\n",
        "\n",
        "#sns.heatmap(cm, annot=True, cmap='Blues', fmt='d', cbar=False)\n",
        "plt.xlabel('Predicted')\n",
        "plt.ylabel('True')\n",
        "plt.title('Confusion Matrix')\n",
        "plt.show()"
      ],
      "metadata": {
        "colab": {
          "base_uri": "https://localhost:8080/",
          "height": 564
        },
        "id": "adfa_9rDSxIG",
        "outputId": "1f9fc34e-14b7-4fad-f27c-a57cd002559c"
      },
      "execution_count": null,
      "outputs": [
        {
          "output_type": "display_data",
          "data": {
            "text/plain": [
              "<Figure size 800x600 with 1 Axes>"
            ],
            "image/png": "[encoded data removed]"
          },
          "metadata": {}
        }
      ]
    },
    {
      "cell_type": "code",
      "source": [
        "from sklearn.svm import SVC\n",
        "from sklearn.metrics import accuracy_score\n",
        "import numpy as np\n",
        "\n",
        "# Combine features for normal and anomaly images in the test set\n",
        "X_test = np.concatenate((X_test_normal, X_test_anomaly), axis=0)\n",
        "\n",
        "# Predict labels for the combined test set\n",
        "y_pred_test = svm_classifier.predict(X_test)\n",
        "\n",
        "# True labels for the test set\n",
        "y_true_test = [0]*len(X_test_normal) + [1]*len(X_test_anomaly)\n",
        "\n",
        "# Calculate accuracy on the test set\n",
        "accuracy = accuracy_score(y_true_test, y_pred_test)\n",
        "print(\"Accuracy on test set:\", accuracy)\n",
        "\n",
        "# Identify misclassified images\n",
        "misclassified_normal = [image_name for image_name, pred_label in zip(os.listdir(test_normal_folder), y_pred_test[:len(X_test_normal)]) if pred_label == 1]\n",
        "misclassified_anomaly = [image_name for image_name, pred_label in zip(os.listdir(test_anomaly_folder), y_pred_test[len(X_test_normal):]) if pred_label == 0]\n",
        "\n",
        "print(\"Misclassified normal images:\", misclassified_normal)\n",
        "print(\"Misclassified anomaly images:\", misclassified_anomaly)\n"
      ],
      "metadata": {
        "colab": {
          "base_uri": "https://localhost:8080/"
        },
        "id": "MS3mX81fS1uV",
        "outputId": "ec0d0d64-83aa-48a4-9aae-c35fb0dd4438"
      },
      "execution_count": null,
      "outputs": [
        {
          "output_type": "stream",
          "name": "stdout",
          "text": [
            "Accuracy on test set: 0.905\n",
            "Misclassified normal images: ['276.JPG', '293.JPG', '320.JPG', '311.JPG', '329.JPG', '347.JPG', '284.JPG', '338.JPG', '337.JPG', '374.JPG', '356.JPG', '365.JPG']\n",
            "Misclassified anomaly images: ['2908.JPG', '2874.JPG', '3399.JPG', '3419.JPG', '1738.JPG', '2166.JPG', '2139.JPG']\n"
          ]
        }
      ]
    },
    {
      "cell_type": "markdown",
      "source": [
        "# VGG 16"
      ],
      "metadata": {
        "id": "aTlVf90gTO8v"
      }
    },
    {
      "cell_type": "code",
      "source": [
        "import os\n",
        "import shutil\n",
        "import random\n",
        "import torch\n",
        "import torchvision.transforms as transforms\n",
        "import torchvision.models as models\n",
        "from PIL import Image\n",
        "\n",
        "\n",
        "# Load pre-trained ResNet-50 model\n",
        "model = models.vgg16(pretrained=True)\n",
        "model.eval()\n",
        "\n",
        "# Preprocess input image\n",
        "transform = transforms.Compose([\n",
        "    transforms.Resize((224, 224)),  # Resize the image to fit ResNet input size\n",
        "    transforms.ToTensor(),           # Convert image to tensor\n",
        "    transforms.Normalize(mean=[0.485, 0.456, 0.406], std=[0.229, 0.224, 0.225])  # Normalize image\n",
        "])\n",
        "\n",
        "# Function to extract features and labels\n",
        "def extract_features_and_labels(folder_path, label):\n",
        "    images = os.listdir(folder_path)\n",
        "    features = []\n",
        "    labels = []\n",
        "\n",
        "    for image_name in images:\n",
        "        input_image_path = os.path.join(folder_path, image_name)\n",
        "\n",
        "        input_image = Image.open(input_image_path)\n",
        "        input_tensor = transform(input_image)\n",
        "        input_batch = input_tensor.unsqueeze(0)  # Add batch dimension\n",
        "        with torch.no_grad():\n",
        "            features_tensor = model(input_batch)\n",
        "        feature_vector = features_tensor.squeeze().numpy()\n",
        "        features.append(feature_vector)\n",
        "        labels.append(label)\n",
        "    return features, labels\n",
        "\n",
        "# Path to training folders\n",
        "train_normal_folder = \"/content/drive/MyDrive/faulty-product-detection/Data/Sub Images/Train/Normal\"\n",
        "train_anomaly_folder = \"/content/drive/MyDrive/faulty-product-detection/Data/Sub Images/Train/Anomaly\"\n",
        "\n",
        "# Extract features and labels for normal images\n",
        "X_train_normal, y_train_normal = extract_features_and_labels(train_normal_folder, label=0)\n",
        "\n",
        "# Extract features and labels for anomaly images\n",
        "X_train_anomaly, y_train_anomaly = extract_features_and_labels(train_anomaly_folder, label=1)\n",
        "\n",
        "# Combine normal and anomaly features and labels\n",
        "X_train = X_train_normal + X_train_anomaly\n",
        "y_train = y_train_normal + y_train_anomaly\n"
      ],
      "metadata": {
        "colab": {
          "base_uri": "https://localhost:8080/"
        },
        "id": "3ZURIrYoTQOL",
        "outputId": "a9536cfa-3fb0-48a1-8cdc-4e4ce3f8d57a"
      },
      "execution_count": null,
      "outputs": [
        {
          "output_type": "stream",
          "name": "stderr",
          "text": [
            "/usr/local/lib/python3.10/dist-packages/torchvision/models/_utils.py:208: UserWarning: The parameter 'pretrained' is deprecated since 0.13 and may be removed in the future, please use 'weights' instead.\n",
            "  warnings.warn(\n",
            "/usr/local/lib/python3.10/dist-packages/torchvision/models/_utils.py:223: UserWarning: Arguments other than a weight enum or `None` for 'weights' are deprecated since 0.13 and may be removed in the future. The current behavior is equivalent to passing `weights=VGG16_Weights.IMAGENET1K_V1`. You can also use `weights=VGG16_Weights.DEFAULT` to get the most up-to-date weights.\n",
            "  warnings.warn(msg)\n",
            "Downloading: \"https://download.pytorch.org/models/vgg16-397923af.pth\" to /root/.cache/torch/hub/checkpoints/vgg16-397923af.pth\n",
            "100%|██████████| 528M/528M [00:03<00:00, 151MB/s]\n"
          ]
        }
      ]
    },
    {
      "cell_type": "code",
      "source": [
        "import os\n",
        "import shutil\n",
        "import random\n",
        "import torch\n",
        "import torchvision.transforms as transforms\n",
        "import torchvision.models as models\n",
        "from PIL import Image\n",
        "\n",
        "\n",
        "# Load pre-trained ResNet-50 model\n",
        "model = models.vgg16(pretrained=True)\n",
        "model.eval()\n",
        "\n",
        "# Preprocess input image\n",
        "transform = transforms.Compose([\n",
        "    transforms.Resize((224, 224)),  # Resize the image to fit ResNet input size\n",
        "    transforms.ToTensor(),           # Convert image to tensor\n",
        "    transforms.Normalize(mean=[0.485, 0.456, 0.406], std=[0.229, 0.224, 0.225])  # Normalize image\n",
        "])\n",
        "\n",
        "# Function to extract features and labels\n",
        "def extract_features_and_labels(folder_path, label):\n",
        "    images = os.listdir(folder_path)\n",
        "    features = []\n",
        "    labels = []\n",
        "\n",
        "    for image_name in images:\n",
        "        input_image_path = os.path.join(folder_path, image_name)\n",
        "\n",
        "        input_image = Image.open(input_image_path)\n",
        "        input_tensor = transform(input_image)\n",
        "        input_batch = input_tensor.unsqueeze(0)  # Add batch dimension\n",
        "        with torch.no_grad():\n",
        "            features_tensor = model(input_batch)\n",
        "        feature_vector = features_tensor.squeeze().numpy()\n",
        "        features.append(feature_vector)\n",
        "        labels.append(label)\n",
        "    return features, labels\n",
        "\n",
        "# Path to training folders\n",
        "test_normal_folder = \"/content/drive/MyDrive/faulty-product-detection/Data/Sub Images/Test/Normal\"\n",
        "test_anomaly_folder = \"/content/drive/MyDrive/faulty-product-detection/Data/Sub Images/Test/Anomaly\"\n",
        "\n",
        "# Extract features and labels for normal images\n",
        "X_test_normal, y_test_normal = extract_features_and_labels(test_normal_folder, label=0)\n",
        "\n",
        "# Extract features and labels for anomaly images\n",
        "X_test_anomaly, y_test_anomaly = extract_features_and_labels(test_anomaly_folder, label=1)\n",
        "\n",
        "# Combine normal and anomaly features and labels\n",
        "X_test = X_test_normal + X_test_anomaly\n",
        "y_test = y_test_normal + y_test_anomaly\n"
      ],
      "metadata": {
        "colab": {
          "base_uri": "https://localhost:8080/"
        },
        "id": "CahgL-QJTa49",
        "outputId": "e273d670-b3c1-4be7-9f54-d3b75db3c75e"
      },
      "execution_count": null,
      "outputs": [
        {
          "output_type": "stream",
          "name": "stderr",
          "text": [
            "/usr/local/lib/python3.10/dist-packages/torchvision/models/_utils.py:208: UserWarning: The parameter 'pretrained' is deprecated since 0.13 and may be removed in the future, please use 'weights' instead.\n",
            "  warnings.warn(\n",
            "/usr/local/lib/python3.10/dist-packages/torchvision/models/_utils.py:223: UserWarning: Arguments other than a weight enum or `None` for 'weights' are deprecated since 0.13 and may be removed in the future. The current behavior is equivalent to passing `weights=VGG16_Weights.IMAGENET1K_V1`. You can also use `weights=VGG16_Weights.DEFAULT` to get the most up-to-date weights.\n",
            "  warnings.warn(msg)\n"
          ]
        }
      ]
    },
    {
      "cell_type": "code",
      "source": [
        "from sklearn.svm import SVC\n",
        "from sklearn.metrics import accuracy_score\n",
        "import joblib\n",
        "\n",
        "# Train a Support Vector Machine (SVM) classifier\n",
        "svm_classifier = SVC(probability=True)\n",
        "svm_classifier.fit(X_train, y_train)\n",
        "\n",
        "# Make predictions on the test set\n",
        "y_pred = svm_classifier.predict(X_test)\n",
        "\n",
        "# Evaluate the model's accuracy\n",
        "accuracy = accuracy_score(y_test, y_pred)\n",
        "print(f\"Accuracy: {accuracy * 100:.2f}%\")"
      ],
      "metadata": {
        "colab": {
          "base_uri": "https://localhost:8080/"
        },
        "id": "akzgL8KeTmDQ",
        "outputId": "2150f805-943c-45b7-a03c-3015247d76a1"
      },
      "execution_count": null,
      "outputs": [
        {
          "output_type": "stream",
          "name": "stdout",
          "text": [
            "Accuracy: 91.50%\n"
          ]
        }
      ]
    },
    {
      "cell_type": "code",
      "source": [
        "import joblib\n",
        "#joblib.dump(svm_classifier,\"/content/drive/MyDrive/faulty-product-detection/Models/vgg_16.pkl\")"
      ],
      "metadata": {
        "colab": {
          "base_uri": "https://localhost:8080/"
        },
        "id": "-NsnhNIsY8aX",
        "outputId": "857bc048-381b-468c-dcfd-fcf584829b23"
      },
      "execution_count": null,
      "outputs": [
        {
          "output_type": "execute_result",
          "data": {
            "text/plain": [
              "['/content/drive/MyDrive/faulty-product-detection/Models/vgg_16.pkl']"
            ]
          },
          "metadata": {},
          "execution_count": 13
        }
      ]
    },
    {
      "cell_type": "code",
      "source": [
        "from sklearn.metrics import confusion_matrix\n",
        "import matplotlib.pyplot as plt\n",
        "import seaborn as sns\n",
        "\n",
        "\n",
        "\n",
        "# Compute confusion matrix\n",
        "cm = confusion_matrix(y_test, y_pred)\n",
        "\n",
        "class_labels = ['Normal', 'Anomaly']\n",
        "\n",
        "# Plot confusion matrix\n",
        "plt.figure(figsize=(8, 6))\n",
        "sns.heatmap(cm, annot=True, cmap='Blues', fmt='g', xticklabels=class_labels, yticklabels=class_labels, cbar=False)\n",
        "\n",
        "#sns.heatmap(cm, annot=True, cmap='Blues', fmt='d', cbar=False)\n",
        "plt.xlabel('Predicted')\n",
        "plt.ylabel('True')\n",
        "plt.title('Confusion Matrix')\n",
        "plt.show()"
      ],
      "metadata": {
        "colab": {
          "base_uri": "https://localhost:8080/",
          "height": 564
        },
        "id": "PUaWfYyGTpqA",
        "outputId": "db64bdbe-6cad-424d-8ccc-1cc643740824"
      },
      "execution_count": null,
      "outputs": [
        {
          "output_type": "display_data",
          "data": {
            "text/plain": [
              "<Figure size 800x600 with 1 Axes>"
            ],
            "image/png": "[encoded data removed]"
          },
          "metadata": {}
        }
      ]
    },
    {
      "cell_type": "code",
      "source": [
        "from sklearn.svm import SVC\n",
        "from sklearn.metrics import accuracy_score\n",
        "import numpy as np\n",
        "\n",
        "# Combine features for normal and anomaly images in the test set\n",
        "X_test = np.concatenate((X_test_normal, X_test_anomaly), axis=0)\n",
        "\n",
        "# Predict labels for the combined test set\n",
        "y_pred_test = svm_classifier.predict(X_test)\n",
        "\n",
        "# True labels for the test set\n",
        "y_true_test = [0]*len(X_test_normal) + [1]*len(X_test_anomaly)\n",
        "\n",
        "# Calculate accuracy on the test set\n",
        "accuracy = accuracy_score(y_true_test, y_pred_test)\n",
        "print(\"Accuracy on test set:\", accuracy)\n",
        "\n",
        "# Identify misclassified images\n",
        "misclassified_normal = [image_name for image_name, pred_label in zip(os.listdir(test_normal_folder), y_pred_test[:len(X_test_normal)]) if pred_label == 1]\n",
        "misclassified_anomaly = [image_name for image_name, pred_label in zip(os.listdir(test_anomaly_folder), y_pred_test[len(X_test_normal):]) if pred_label == 0]\n",
        "\n",
        "print(\"Misclassified normal images:\", misclassified_normal)\n",
        "print(\"Misclassified anomaly images:\", misclassified_anomaly)\n"
      ],
      "metadata": {
        "colab": {
          "base_uri": "https://localhost:8080/"
        },
        "id": "zCiNMR5cTsvQ",
        "outputId": "036208f1-87c7-4919-91fb-28c5a36f1444"
      },
      "execution_count": null,
      "outputs": [
        {
          "output_type": "stream",
          "name": "stdout",
          "text": [
            "Accuracy on test set: 0.915\n",
            "Misclassified normal images: ['321.JPG', '320.JPG', '311.JPG', '312.JPG', '347.JPG', '284.JPG', '322.JPG', '338.JPG', '374.JPG', '366.JPG', '365.JPG', '357.JPG']\n",
            "Misclassified anomaly images: ['2908.JPG', '2874.JPG', '3405.JPG', '1738.JPG', '2139.JPG']\n"
          ]
        }
      ]
    }
  ]
}